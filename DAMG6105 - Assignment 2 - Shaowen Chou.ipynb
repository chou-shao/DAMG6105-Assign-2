{
 "cells": [
  {
   "cell_type": "markdown",
   "id": "61959dc9",
   "metadata": {},
   "source": [
    "## DAMG 6105\n",
    "## Assignment 2\n",
    "## Name: Shaowen Chou\n",
    "## NU ID: 002166133"
   ]
  },
  {
   "cell_type": "markdown",
   "id": "9957124f",
   "metadata": {},
   "source": [
    "2. Dice simulator: Create a six and eight-sided dice simulator. Please make sure that it is a fair die. Cover it with a simple, easy to use GUI."
   ]
  },
  {
   "cell_type": "code",
   "execution_count": 115,
   "id": "144daffd",
   "metadata": {},
   "outputs": [],
   "source": [
    "#import packages: \n",
    "import tkinter as tk\n",
    "from PIL import Image, ImageTk\n",
    "import itertools\n",
    "import random\n"
   ]
  },
  {
   "cell_type": "code",
   "execution_count": 116,
   "id": "5a8a75f3",
   "metadata": {
    "scrolled": true
   },
   "outputs": [
    {
     "data": {
      "text/plain": [
       "''"
      ]
     },
     "execution_count": 116,
     "metadata": {},
     "output_type": "execute_result"
    }
   ],
   "source": [
    "# Main window, Size of Window, Title of Application\n",
    "root = tk.Tk()\n",
    "root.geometry('900x900')\n",
    "root.title('Assignment 2: Dice Simulator')"
   ]
  },
  {
   "cell_type": "code",
   "execution_count": 117,
   "id": "37f6fa0f",
   "metadata": {},
   "outputs": [],
   "source": [
    "HeadingLabel = tk.Label(root, text = \"Welcome to the Dice Simulator!\", \n",
    "                        font = \"Helvetica 16 bold italic\")\n",
    "HeadingLabel.pack()"
   ]
  },
  {
   "cell_type": "code",
   "execution_count": 118,
   "id": "482e878a",
   "metadata": {},
   "outputs": [
    {
     "name": "stdout",
     "output_type": "stream",
     "text": [
      "/Users/Chouy/Desktop/DAMG6105 38543 Data Science Eng with Python/Assignment 2\n"
     ]
    }
   ],
   "source": [
    "path = %pwd\n",
    "print(path)"
   ]
  },
  {
   "cell_type": "code",
   "execution_count": 119,
   "id": "577a869b",
   "metadata": {},
   "outputs": [],
   "source": [
    "# Images\n",
    "first_dice_images = ['six_sided_dice_1.png',\n",
    "                     'six_sided_dice_2.png',\n",
    "                     'six_sided_dice_3.png',\n",
    "                     'six_sided_dice_4.png',\n",
    "                     'six_sided_dice_5.png',\n",
    "                     'six_sided_dice_6.png']\n",
    "\n",
    "second_dice_images = ['eight_sided_dice_1.png',\n",
    "                     'eight_sided_dice_2.png',\n",
    "                     'eight_sided_dice_3.png',\n",
    "                     'eight_sided_dice_4.png',\n",
    "                     'eight_sided_dice_5.png',\n",
    "                     'eight_sided_dice_6.png',\n",
    "                     'eight_sided_dice_7.png',\n",
    "                     'eight_sided_dice_8.png']"
   ]
  },
  {
   "cell_type": "code",
   "execution_count": 120,
   "id": "0af41377",
   "metadata": {},
   "outputs": [],
   "source": [
    "# Simulate a dice roll with random numbers 1 through 6 inclusive\n",
    "Six_Side_Dice_Image = ImageTk.PhotoImage(Image.open(random.choice(first_dice_images)))\n"
   ]
  },
  {
   "cell_type": "code",
   "execution_count": 121,
   "id": "ba1b70bd",
   "metadata": {},
   "outputs": [],
   "source": [
    "# Simulate a dice roll with random numbers 1 through 8 inclusive\n",
    "Eight_Side_Dice_Image = ImageTk.PhotoImage(Image.open(random.choice(second_dice_images)))"
   ]
  },
  {
   "cell_type": "code",
   "execution_count": 122,
   "id": "48eb26a9",
   "metadata": {},
   "outputs": [],
   "source": [
    "# Construct a label widget for image\n",
    "Six_Side_Dice_Image_Label = tk.Label(root, image = Six_Side_Dice_Image)\n",
    "Six_Side_Dice_Image_Label.image = Six_Side_Dice_Image\n",
    "\n",
    "# Packing a widget in the parent widget\n",
    "Six_Side_Dice_Image_Label.pack()"
   ]
  },
  {
   "cell_type": "code",
   "execution_count": 123,
   "id": "cfed7da4",
   "metadata": {},
   "outputs": [],
   "source": [
    "# Button to roll the six sided dice\n",
    "roll_six_side_dice_button = tk.Button(root, text = \"Roll 6 Sided Dice!\", \n",
    "                        command = rolling_six_sided_dice,\n",
    "                        font = \"Helvetica 16 bold italic\")\n",
    "roll_six_side_dice_button.pack(expand=True)"
   ]
  },
  {
   "cell_type": "code",
   "execution_count": 124,
   "id": "98ec7f4b",
   "metadata": {},
   "outputs": [],
   "source": [
    "# Construct a label widget for image\n",
    "Eight_Side_Dice_Image_Label = tk.Label(root, image = Eight_Side_Dice_Image)\n",
    "Eight_Side_Dice_Image_Label.image = Eight_Side_Dice_Image\n",
    "\n",
    "# Packing a widget in the parent widget\n",
    "Eight_Side_Dice_Image_Label.pack(expand=True)"
   ]
  },
  {
   "cell_type": "code",
   "execution_count": 125,
   "id": "a54810f1",
   "metadata": {},
   "outputs": [],
   "source": [
    "# Rolling the six sided dice\n",
    "def rolling_six_sided_dice():\n",
    "    Six_Side_Dice_Image = ImageTk.PhotoImage(Image.open(random.choice(first_dice_images)))\n",
    "    # update image\n",
    "    Six_Side_Dice_Image_Label.configure(image = Six_Side_Dice_Image)\n",
    "    # keep a reference\n",
    "    Six_Side_Dice_Image_Label.image = Six_Side_Dice_Image"
   ]
  },
  {
   "cell_type": "code",
   "execution_count": 126,
   "id": "e79e4b8b",
   "metadata": {},
   "outputs": [],
   "source": [
    "# Rolling the eight sided dice\n",
    "def rolling_eight_sided_dice():\n",
    "    Eight_Side_Dice_Image = ImageTk.PhotoImage(Image.open(random.choice(second_dice_images)))\n",
    "    # update image\n",
    "    Eight_Side_Dice_Image_Label.configure(image=Eight_Side_Dice_Image)\n",
    "    # keep a reference\n",
    "    Eight_Side_Dice_Image_Label.image = Eight_Side_Dice_Image"
   ]
  },
  {
   "cell_type": "code",
   "execution_count": 127,
   "id": "4a03b187",
   "metadata": {},
   "outputs": [],
   "source": [
    "# Roll 8 sided dice button\n",
    "roll_eight_side_dice_button  = tk.Button(root, text = \"Roll 8 Sided Dice!\", \n",
    "                        command = rolling_eight_sided_dice,\n",
    "                        font = \"Helvetica 16 bold italic\")\n",
    "roll_eight_side_dice_button .pack()"
   ]
  },
  {
   "cell_type": "code",
   "execution_count": 128,
   "id": "1d775a6b",
   "metadata": {},
   "outputs": [],
   "source": [
    "# Rolling the eight sided dice\n",
    "def rolling_both_dice():\n",
    "    Six_Side_Dice_Image = ImageTk.PhotoImage(Image.open(random.choice(first_dice_images)))\n",
    "    Eight_Side_Dice_Image = ImageTk.PhotoImage(Image.open(random.choice(second_dice_images)))\n",
    "    # update image\n",
    "    Six_Side_Dice_Image_Label.configure(image = Six_Side_Dice_Image)\n",
    "    Eight_Side_Dice_Image_Label.configure(image=Eight_Side_Dice_Image)\n",
    "    # keep a reference\n",
    "    Six_Side_Dice_Image_Label.image = Six_Side_Dice_Image\n",
    "    Eight_Side_Dice_Image_Label.image = Eight_Side_Dice_Image\n",
    "    \n",
    "    \n",
    "    "
   ]
  },
  {
   "cell_type": "code",
   "execution_count": 129,
   "id": "25821d45",
   "metadata": {},
   "outputs": [],
   "source": [
    "# Roll Both dice button\n",
    "roll_both_dice_button  = tk.Button(root, text = \"Roll Both Dice!\", \n",
    "                        command = rolling_both_dice,\n",
    "                        font = \"Helvetica 16 bold italic\")\n",
    "roll_both_dice_button .pack(side = tk.BOTTOM)"
   ]
  },
  {
   "cell_type": "code",
   "execution_count": null,
   "id": "e1a2079b",
   "metadata": {},
   "outputs": [],
   "source": [
    "# Set background color of GUI\n",
    "# Opens the GUI\n",
    "background_color = \"#0D865D\"\n",
    "root.configure(bg = background_color)\n",
    "root.mainloop()"
   ]
  },
  {
   "cell_type": "code",
   "execution_count": null,
   "id": "9d63c29f",
   "metadata": {},
   "outputs": [],
   "source": []
  },
  {
   "cell_type": "code",
   "execution_count": null,
   "id": "47ab6290",
   "metadata": {},
   "outputs": [],
   "source": []
  }
 ],
 "metadata": {
  "kernelspec": {
   "display_name": "Python 3 (ipykernel)",
   "language": "python",
   "name": "python3"
  },
  "language_info": {
   "codemirror_mode": {
    "name": "ipython",
    "version": 3
   },
   "file_extension": ".py",
   "mimetype": "text/x-python",
   "name": "python",
   "nbconvert_exporter": "python",
   "pygments_lexer": "ipython3",
   "version": "3.9.7"
  }
 },
 "nbformat": 4,
 "nbformat_minor": 5
}
